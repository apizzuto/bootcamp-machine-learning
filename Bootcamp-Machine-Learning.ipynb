{
 "cells": [
  {
   "cell_type": "markdown",
   "metadata": {
    "slideshow": {
     "slide_type": "slide"
    }
   },
   "source": [
    "# An Introduction to Machine Learning\n",
    "\n",
    "## Alex Pizzuto\n",
    "\n",
    "### *IceCube Bootcamp 2019*\n",
    "### *WIPAC / UW-Madison*"
   ]
  },
  {
   "cell_type": "markdown",
   "metadata": {
    "slideshow": {
     "slide_type": "subslide"
    }
   },
   "source": [
    "### GitHub repo with materials:\n",
    "https://github.com/jrbourbeau/big-data-madison-ml-sklearn <br>\n",
    "\n",
    "### Slides:\n",
    "https://jrbourbeau.github.io/big-data-madison-ml-sklearn\n",
    "\n",
    "### Contact:\n",
    "E-mail: pizzuto@wisc.edu\n",
    "\n",
    "GitHub: [apizzuto](https://github.com/apizzuto)\n",
    "\n",
    "Twitter: [ajpizzuto](https://twitter.com/ajpizzuto)\n",
    "\n",
    "LinkedIn: [Alex Pizzuto](https://www.linkedin.com/in/alex-pizzuto-3a97ab14a/)\n",
    "\n",
    "\\*Lots of material in these slides are from talk on ML by James Bourbeau or Sebastian Raschka "
   ]
  },
  {
   "cell_type": "markdown",
   "metadata": {
    "slideshow": {
     "slide_type": "subslide"
    }
   },
   "source": [
    "## Supervised machine learning workflow\n",
    "\n",
    "![overview](images/overview.jpg \"overview\")\n",
    "\n",
    "<p style=\"font-size:14px\">\n",
    "Image source: <a href=\"https://sebastianraschka.com/blog/2016/model-evaluation-selection-part3.html\">Model evaluation, model selection, and algorithm selection in machine learning</a> by Sebastian Raschka\n",
    "</p>"
   ]
  },
  {
   "cell_type": "code",
   "execution_count": 1,
   "metadata": {
    "slideshow": {
     "slide_type": "skip"
    }
   },
   "outputs": [],
   "source": [
    "import numpy as np\n",
    "import seaborn as sns\n",
    "import matplotlib.pyplot as plt\n",
    "\n",
    "%matplotlib inline"
   ]
  },
  {
   "cell_type": "markdown",
   "metadata": {
    "slideshow": {
     "slide_type": "slide"
    }
   },
   "source": [
    "# Outline\n",
    "\n",
    "- Heres a thing\n",
    "- This is another thang\n",
    "    - Oops, indent now"
   ]
  },
  {
   "cell_type": "markdown",
   "metadata": {
    "slideshow": {
     "slide_type": "subslide"
    }
   },
   "source": [
    "Don't forget about me"
   ]
  },
  {
   "cell_type": "markdown",
   "metadata": {
    "slideshow": {
     "slide_type": "fragment"
    }
   },
   "source": [
    "I don't know what a fragment is, but I guess this is one"
   ]
  },
  {
   "attachments": {},
   "cell_type": "markdown",
   "metadata": {},
   "source": []
  },
  {
   "cell_type": "code",
   "execution_count": null,
   "metadata": {},
   "outputs": [],
   "source": []
  },
  {
   "cell_type": "code",
   "execution_count": null,
   "metadata": {},
   "outputs": [],
   "source": []
  },
  {
   "cell_type": "markdown",
   "metadata": {},
   "source": [
    "## IceCube Use Cases\n",
    "\n",
    "- Angular Error Estimation (S. Fahey, A. Pizzuto, M. Larson)\n",
    "- Low-Energy Particle Identification (K. Leonard)\n",
    "- Event Reconstructions (M. Heunnfeld)"
   ]
  },
  {
   "cell_type": "code",
   "execution_count": null,
   "metadata": {},
   "outputs": [],
   "source": []
  }
 ],
 "metadata": {
  "celltoolbar": "Slideshow",
  "kernelspec": {
   "display_name": "Python 3",
   "language": "python",
   "name": "python3"
  },
  "language_info": {
   "codemirror_mode": {
    "name": "ipython",
    "version": 3
   },
   "file_extension": ".py",
   "mimetype": "text/x-python",
   "name": "python",
   "nbconvert_exporter": "python",
   "pygments_lexer": "ipython3",
   "version": "3.6.1"
  }
 },
 "nbformat": 4,
 "nbformat_minor": 2
}
