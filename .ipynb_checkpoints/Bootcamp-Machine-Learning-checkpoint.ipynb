{
 "cells": [
  {
   "cell_type": "markdown",
   "metadata": {
    "slideshow": {
     "slide_type": "slide"
    }
   },
   "source": [
    "# An Introduction to Machine Learning\n",
    "\n",
    "## Alex Pizzuto\n",
    "\n",
    "*IceCube Bootcamp: June 2019* <br>\n",
    "*WIPAC / UW-Madison*"
   ]
  },
  {
   "cell_type": "markdown",
   "metadata": {
    "slideshow": {
     "slide_type": "subslide"
    }
   },
   "source": [
    "### GitHub repo with materials:\n",
    "https://github.com/apizzuto/bootcamp-machine-learning <br>\n",
    "\n",
    "### Slides:\n",
    "https://github.com/apizzuto/bootcamp-machine-learning\n",
    "\n",
    "### Contact:\n",
    "E-mail: pizzuto@wisc.edu\n",
    "\n",
    "GitHub: [apizzuto](https://github.com/apizzuto)\n",
    "\n",
    "Twitter: [ajpizzuto](https://twitter.com/ajpizzuto)\n",
    "\n",
    "LinkedIn: [Alex Pizzuto](https://www.linkedin.com/in/alex-pizzuto-3a97ab14a/)\n",
    "\n",
    "\\*Lots of material in these slides are from talk on ML by James Bourbeau or Sebastian Raschka "
   ]
  },
  {
   "cell_type": "markdown",
   "metadata": {
    "slideshow": {
     "slide_type": "subslide"
    }
   },
   "source": [
    "## Supervised machine learning workflow\n",
    "\n",
    "![overview](images/overview.jpg \"overview\")\n",
    "\n",
    "<p style=\"font-size:14px\">\n",
    "Image source: <a href=\"https://sebastianraschka.com/blog/2016/model-evaluation-selection-part3.html\">Model evaluation, model selection, and algorithm selection in machine learning</a> by Sebastian Raschka\n",
    "</p>"
   ]
  },
  {
   "cell_type": "code",
   "execution_count": 10,
   "metadata": {
    "slideshow": {
     "slide_type": "skip"
    }
   },
   "outputs": [],
   "source": [
    "import numpy as np\n",
    "import seaborn as sns\n",
    "import matplotlib.pyplot as plt\n",
    "\n",
    "%matplotlib inline"
   ]
  },
  {
   "cell_type": "markdown",
   "metadata": {
    "slideshow": {
     "slide_type": "slide"
    }
   },
   "source": [
    "# Outline\n",
    "\n",
    "- What is Machine Learning?\n",
    "    - Machine Learning vs. Classical Programming\n",
    "    - Supervised vs. Unsupervised Machine Learning\n",
    "- Data Representation\n",
    "    - Scikit-learn\n",
    "- Machine Learning Algorithms\n",
    "    - Tree Based Learning\n",
    "        - Boosting and Bagging\n",
    "- Model Validation\n",
    "- Machine Learning in IceCube"
   ]
  },
  {
   "cell_type": "markdown",
   "metadata": {
    "slideshow": {
     "slide_type": "slide"
    }
   },
   "source": [
    "## Machine Learning\n",
    "\n",
    "\"Machine Learning is the hot new thing\" <br>\n",
    "    -- John L. Hennessy, Stanford President"
   ]
  },
  {
   "cell_type": "markdown",
   "metadata": {
    "slideshow": {
     "slide_type": "subslide"
    }
   },
   "source": [
    "## Machine Learning\n",
    "\n",
    "*Slightly* more seriously: <br>\n",
    "\"Machine learning is the field of study that gives computers the ability to learn without being explicitly programmed\" <br>\n",
    "    -- Arthur Samuel (Vanguard of AI)"
   ]
  },
  {
   "cell_type": "code",
   "execution_count": null,
   "metadata": {
    "slideshow": {
     "slide_type": "fragment"
    }
   },
   "outputs": [],
   "source": [
    "EXAMPLE CLASSICAL SPAM VS. ML SPAM"
   ]
  },
  {
   "cell_type": "code",
   "execution_count": 8,
   "metadata": {},
   "outputs": [
    {
     "name": "stdout",
     "output_type": "stream",
     "text": [
      "0\n",
      "1\n",
      "2\n",
      "3\n",
      "4\n",
      "5\n",
      "6\n",
      "7\n",
      "8\n",
      "9\n"
     ]
    }
   ],
   "source": [
    "for i in range(10):\n",
    "    print(i)"
   ]
  },
  {
   "cell_type": "code",
   "execution_count": 11,
   "metadata": {},
   "outputs": [
    {
     "data": {
      "image/png": "[encoded data removed]",
      "text/plain": [
       "<Figure size 432x288 with 1 Axes>"
      ]
     },
     "metadata": {},
     "output_type": "display_data"
    }
   ],
   "source": [
    "x = np.linspace(1, 50, 50)\n",
    "y = np.random.randn(50)\n",
    "plt.plot(x, y)\n",
    "plt.show()"
   ]
  },
  {
   "cell_type": "markdown",
   "metadata": {
    "slideshow": {
     "slide_type": "slide"
    }
   },
   "source": [
    "## Supervised vs. Unsupervised ML"
   ]
  },
  {
   "cell_type": "code",
   "execution_count": null,
   "metadata": {},
   "outputs": [],
   "source": []
  },
  {
   "cell_type": "code",
   "execution_count": null,
   "metadata": {},
   "outputs": [],
   "source": []
  },
  {
   "cell_type": "code",
   "execution_count": null,
   "metadata": {},
   "outputs": [],
   "source": []
  },
  {
   "cell_type": "markdown",
   "metadata": {},
   "source": [
    "## Data Representation\n",
    "\n",
    "MATRIX AND VECTOR PICTURE (label event and features), CLASSIFICATION vs. REGRESSION\n",
    "\n",
    "Mention Scikit-learn"
   ]
  },
  {
   "cell_type": "code",
   "execution_count": null,
   "metadata": {},
   "outputs": [],
   "source": []
  },
  {
   "cell_type": "code",
   "execution_count": null,
   "metadata": {},
   "outputs": [],
   "source": []
  },
  {
   "cell_type": "markdown",
   "metadata": {},
   "source": [
    "## Algorithms\n",
    "\n",
    "Linear Regression, KNN, (not mentioning Deep Learning algorithms here, link to recent talk), Kernel SVM"
   ]
  },
  {
   "cell_type": "markdown",
   "metadata": {},
   "source": [
    "## Tree Based Learning"
   ]
  },
  {
   "cell_type": "code",
   "execution_count": null,
   "metadata": {},
   "outputs": [],
   "source": []
  },
  {
   "cell_type": "markdown",
   "metadata": {
    "slideshow": {
     "slide_type": "slide"
    }
   },
   "source": [
    "## IceCube Use Cases\n",
    "\n",
    "- Angular Error Estimation (S. Fahey, A. Pizzuto, M. Larson)\n",
    "- Low-Energy Particle Identification (K. Leonard)\n",
    "- Event Reconstructions (M. Heunnfeld)\n",
    "\n",
    "INCLUDE SOME PLOTS OF THIS"
   ]
  },
  {
   "cell_type": "code",
   "execution_count": null,
   "metadata": {},
   "outputs": [],
   "source": []
  }
 ],
 "metadata": {
  "celltoolbar": "Slideshow",
  "kernelspec": {
   "display_name": "Python 3",
   "language": "python",
   "name": "python3"
  },
  "language_info": {
   "codemirror_mode": {
    "name": "ipython",
    "version": 3
   },
   "file_extension": ".py",
   "mimetype": "text/x-python",
   "name": "python",
   "nbconvert_exporter": "python",
   "pygments_lexer": "ipython3",
   "version": "3.6.1"
  }
 },
 "nbformat": 4,
 "nbformat_minor": 2
}
